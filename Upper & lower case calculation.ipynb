{
 "cells": [
  {
   "cell_type": "code",
   "execution_count": 1,
   "id": "cda81564",
   "metadata": {},
   "outputs": [
    {
     "name": "stdout",
     "output_type": "stream",
     "text": [
      "enter stringThe quick Brow Fox\n",
      "No. of Upper case characters : 3\n",
      "No. of Lower case Characters :  12\n"
     ]
    }
   ],
   "source": [
    "#Write a Python function that accepts a string and calculate the number of upper case letters and lower case letters.\n",
    "\n",
    "\n",
    "\n",
    "#Sample String : 'The quick Brow Fox'\n",
    "\n",
    "#Expected Output :\n",
    "\n",
    "#No. of Upper case characters : 3\n",
    "\n",
    "#No. of Lower case Characters : 12\n",
    "\n",
    "x=input(\"enter string\")\n",
    "\n",
    "def count_upper_lower(x):\n",
    "    upper=0\n",
    "    lower=0\n",
    "    for i in x:\n",
    "        if i.isupper() is True:\n",
    "            upper=upper+1\n",
    "        elif i.islower() is True:\n",
    "            lower=lower+1\n",
    "    print(\"No. of Upper case characters :\", upper)\n",
    "    print(\"No. of Lower case Characters : \",lower)\n",
    "   \n",
    "    \n",
    "count_upper_lower(x)"
   ]
  },
  {
   "cell_type": "code",
   "execution_count": null,
   "id": "3872ca93",
   "metadata": {},
   "outputs": [],
   "source": []
  }
 ],
 "metadata": {
  "kernelspec": {
   "display_name": "Python 3 (ipykernel)",
   "language": "python",
   "name": "python3"
  },
  "language_info": {
   "codemirror_mode": {
    "name": "ipython",
    "version": 3
   },
   "file_extension": ".py",
   "mimetype": "text/x-python",
   "name": "python",
   "nbconvert_exporter": "python",
   "pygments_lexer": "ipython3",
   "version": "3.9.12"
  }
 },
 "nbformat": 4,
 "nbformat_minor": 5
}
