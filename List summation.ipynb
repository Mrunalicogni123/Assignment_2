{
 "cells": [
  {
   "cell_type": "code",
   "execution_count": 3,
   "id": "6107d1b4",
   "metadata": {},
   "outputs": [
    {
     "name": "stdout",
     "output_type": "stream",
     "text": [
      "enter elements for list =8 2 3 0 7\n",
      "list is [8, 2, 3, 0, 7]\n",
      "sum of elements in list 20\n"
     ]
    }
   ],
   "source": [
    "#Write a Python function to sum all the numbers in a list.\n",
    "#Sample List : (8, 2, 3, 0, 7)\n",
    "\n",
    "#Expected Output : 20\n",
    "\n",
    "list1=[int(x) for x in input(\"enter elements for list =\").split()]\n",
    "print(\"list is\" , list1)\n",
    "def sum(x):\n",
    "    sum=0\n",
    "    for i in list1:\n",
    "        sum=sum+i\n",
    "    return sum\n",
    "z=sum(list1)\n",
    "print(\"sum of elements in list\" ,z)"
   ]
  },
  {
   "cell_type": "code",
   "execution_count": null,
   "id": "aaae0151",
   "metadata": {},
   "outputs": [],
   "source": []
  },
  {
   "cell_type": "code",
   "execution_count": null,
   "id": "2d1cf1f5",
   "metadata": {},
   "outputs": [],
   "source": []
  }
 ],
 "metadata": {
  "kernelspec": {
   "display_name": "Python 3 (ipykernel)",
   "language": "python",
   "name": "python3"
  },
  "language_info": {
   "codemirror_mode": {
    "name": "ipython",
    "version": 3
   },
   "file_extension": ".py",
   "mimetype": "text/x-python",
   "name": "python",
   "nbconvert_exporter": "python",
   "pygments_lexer": "ipython3",
   "version": "3.9.12"
  }
 },
 "nbformat": 4,
 "nbformat_minor": 5
}
